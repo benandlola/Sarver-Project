{
 "cells": [
  {
   "cell_type": "code",
   "execution_count": 30,
   "metadata": {},
   "outputs": [],
   "source": [
    "import pandas as pd\n",
    "\n",
    "df = pd.read_csv('senate_data_clean.csv', parse_dates=['Transaction Date'])"
   ]
  },
  {
   "cell_type": "code",
   "execution_count": 31,
   "metadata": {},
   "outputs": [
    {
     "data": {
      "text/plain": [
       "David a Perdue , jr    3074\n",
       "Sheldon Whitehouse      599\n",
       "Shelley m Capito        553\n",
       "Thomas h Tuberville     538\n",
       "Thad Cochran            530\n",
       "Pat Roberts             460\n",
       "Thomas r Carper         303\n",
       "Ron l Wyden             271\n",
       "Kelly Loeffler          252\n",
       "Patrick j Toomey        227\n",
       "Name: Senator, dtype: int64"
      ]
     },
     "execution_count": 31,
     "metadata": {},
     "output_type": "execute_result"
    }
   ],
   "source": [
    "#top 10 most active senators\n",
    "top_senators = df['Senator'].value_counts()[:10]\n",
    "top_senators"
   ]
  },
  {
   "cell_type": "code",
   "execution_count": 32,
   "metadata": {},
   "outputs": [
    {
     "data": {
      "text/plain": [
       "AAPL    209\n",
       "PFE     136\n",
       "MSFT    134\n",
       "T       107\n",
       "CZR      98\n",
       "DIS      97\n",
       "BAC      93\n",
       "FDC      86\n",
       "GE       86\n",
       "NFLX     83\n",
       "Name: Stock, dtype: int64"
      ]
     },
     "execution_count": 32,
     "metadata": {},
     "output_type": "execute_result"
    }
   ],
   "source": [
    "#top 10 traded stocks\n",
    "top_stocks = df['Stock'].value_counts()[:10] \n",
    "top_stocks"
   ]
  },
  {
   "cell_type": "code",
   "execution_count": 33,
   "metadata": {},
   "outputs": [],
   "source": [
    "#top traders in 2023\n",
    "data_2023 = df[df['Transaction Date'].dt.year == 2023].copy()\n",
    "data_2023.sort_values('Transaction Date', ascending=True, inplace=True)\n",
    "data_2023_purchases = data_2023[data_2023['Buy/Sell'] == 'Purchase']\n",
    "data_2023_sales = data_2023[data_2023['Buy/Sell'] == 'Sale']\n",
    "#pd.set_option('display.max_rows', None)\n",
    "#pd.set_option('display.max_columns', None)"
   ]
  }
 ],
 "metadata": {
  "kernelspec": {
   "display_name": "Python 3",
   "language": "python",
   "name": "python3"
  },
  "language_info": {
   "codemirror_mode": {
    "name": "ipython",
    "version": 3
   },
   "file_extension": ".py",
   "mimetype": "text/x-python",
   "name": "python",
   "nbconvert_exporter": "python",
   "pygments_lexer": "ipython3",
   "version": "3.9.6"
  }
 },
 "nbformat": 4,
 "nbformat_minor": 2
}
